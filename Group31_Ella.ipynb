{
 "cells": [
  {
   "cell_type": "markdown",
   "id": "e94c5e6f-3e34-460d-b07a-e8a40ddf8351",
   "metadata": {},
   "source": [
    "Title: Predicting Chest Pain Type Based on Resting Blood Pressure and Cholesterol Level in Patients at Risk of Heart Disease.\r\n",
    "\r\n",
    "\r\n",
    "Introduction:\r\n",
    "A new prediction model, using test results from the Cleveland Clink in Ohio predicted the diagnoses of heart disease based on numeric, integer and categorical variables. This model was then applied to a new group of 425 patients who were going through the process of angiography, which is the examination of blood vessels via X ray. We will repurpose the dataset used in this paper. \r\n",
    "\r\n",
    "\r\n",
    "In this project, we inquire whether we can use classification to predict the Chest Pain Type (cp) an individual could suffer from based on Resting Blood Pressure (trestbps) and Serum Cholesterol in mg/dl (chol). The chest pain types include: (value 1: typical angina, value 2: atypical angina, value 3: non-anginal pain, value 4: asymptomatic). Angina (chest pain) is a primary indicator of heart disease and the types of pain experienced can be used to diagnose and assess the severity of the condition (Nakias et al., 2018).\r\n",
    "\r\n",
    "\r\n",
    "As high levels of cholesterol and irregular resting blood correlate with atypical angina (Mosby, 2004), we are curious if these variables can predict the kinds of chest pain patients have. Predicting chest pain type can benefit individuals at risk of heart disease as healthcare providers can identify what symptoms a patient should be monitoring for to get crucial care faster. \r\n",
    "\r\n",
    "\r\n",
    "Methods:\r\n",
    "\r\n",
    "\r\n",
    "We will be making a model for classification data analysis which can determine the categorical label “type of heart pain patients have” based on their “resting blood pressure” and “cholesterol”. We will be keeping the columns cp (chest pain type), resting blood pressure (resting blood pressure), and cholesterol (chol) (serum cholesterol in mg/dl). \r\n",
    "\r\n",
    "\r\n",
    "Our classification model will produced using tidymodels, data will be split in an 80:20 ratio to form training and testing sets of data. Variables will be standardized. We will evaluate our model using the “metrics” function. One visualization we will do is to plot accuracy vs. k to demonstrate our chosen k is close to optimal for the nearest neighbours function. \r\n",
    "\r\n",
    "\r\n",
    "\r\n",
    "\r\n",
    "Expected outcomes and significance:\r\n",
    "\r\n",
    "\r\n",
    "What do you expect to find? \r\n",
    "We expect to be able to predict and classify the type of chest pain a patient is experiencing as typical angina, atypical angina, non-anginal pain, or asymptomatic based only on the numerical categories: cholesterol and resting blood pressure. \r\n",
    "\r\n",
    "\r\n",
    "What impact could such findings have? \r\n",
    "These findings could have impacts in the area of healthcare. It could be used to classify potential chest pain type based on physical testing (blood test for cholesterol and blood pressure cuff for measuring blood pressure) \r\n",
    "\r\n",
    "\r\n",
    "What future questions could this lead to? \r\n",
    "This classification could lead to future questions about how cholesterol levels and resting blood pressure levels are related to chest pain, and, in turn, related to heart disease. It would give healthcare professionals additional information to use in their clinics to better treat patients with chest pain and potentially heart disease.\r\n",
    "\r\n",
    "\r\n",
    "Citations (APA):\r\n",
    "\r\n",
    "\r\n",
    "Nakias, N., Bechlioulis, A., & et. al.,. (2018, June 8). The importance of characteristics of angina symptoms for the prediction of coronary artery disease in a cohort of stable patients in the modern era. Hellenic Journal of Cardiology. https://www.sciencedirect.com/science/article/pii/S1109966618300277\r\n",
    "\r\n",
    "\r\n",
    "Mosby. (2004b, February 27). The relation of the systolic blood pressure and heart rate to attacks of angina pectoris precipitated by effort. American Heart Journal. https://www.sciencedirect.com/science/article/abs/pii/S0002870336908839\r\n",
    "839\r\n",
    "com/science/article/abs/pii/S0002870336908839\r\n"
   ]
  },
  {
   "cell_type": "markdown",
   "id": "c3be204c-7a3b-4fd0-b9da-751b31058128",
   "metadata": {},
   "source": [
    "Word Count: 495 excluding works cited"
   ]
  },
  {
   "cell_type": "code",
   "execution_count": 1,
   "id": "7213f320-1752-4fee-8676-52bb8db12892",
   "metadata": {},
   "outputs": [
    {
     "name": "stderr",
     "output_type": "stream",
     "text": [
      "── \u001b[1mAttaching core tidyverse packages\u001b[22m ──────────────────────── tidyverse 2.0.0 ──\n",
      "\u001b[32m✔\u001b[39m \u001b[34mdplyr    \u001b[39m 1.1.3     \u001b[32m✔\u001b[39m \u001b[34mreadr    \u001b[39m 2.1.4\n",
      "\u001b[32m✔\u001b[39m \u001b[34mforcats  \u001b[39m 1.0.0     \u001b[32m✔\u001b[39m \u001b[34mstringr  \u001b[39m 1.5.0\n",
      "\u001b[32m✔\u001b[39m \u001b[34mggplot2  \u001b[39m 3.4.4     \u001b[32m✔\u001b[39m \u001b[34mtibble   \u001b[39m 3.2.1\n",
      "\u001b[32m✔\u001b[39m \u001b[34mlubridate\u001b[39m 1.9.3     \u001b[32m✔\u001b[39m \u001b[34mtidyr    \u001b[39m 1.3.0\n",
      "\u001b[32m✔\u001b[39m \u001b[34mpurrr    \u001b[39m 1.0.2     \n",
      "── \u001b[1mConflicts\u001b[22m ────────────────────────────────────────── tidyverse_conflicts() ──\n",
      "\u001b[31m✖\u001b[39m \u001b[34mdplyr\u001b[39m::\u001b[32mfilter()\u001b[39m masks \u001b[34mstats\u001b[39m::filter()\n",
      "\u001b[31m✖\u001b[39m \u001b[34mdplyr\u001b[39m::\u001b[32mlag()\u001b[39m    masks \u001b[34mstats\u001b[39m::lag()\n",
      "\u001b[36mℹ\u001b[39m Use the conflicted package (\u001b[3m\u001b[34m<http://conflicted.r-lib.org/>\u001b[39m\u001b[23m) to force all conflicts to become errors\n",
      "── \u001b[1mAttaching packages\u001b[22m ────────────────────────────────────── tidymodels 1.1.1 ──\n",
      "\n",
      "\u001b[32m✔\u001b[39m \u001b[34mbroom       \u001b[39m 1.0.5     \u001b[32m✔\u001b[39m \u001b[34mrsample     \u001b[39m 1.2.0\n",
      "\u001b[32m✔\u001b[39m \u001b[34mdials       \u001b[39m 1.2.0     \u001b[32m✔\u001b[39m \u001b[34mtune        \u001b[39m 1.1.2\n",
      "\u001b[32m✔\u001b[39m \u001b[34minfer       \u001b[39m 1.0.5     \u001b[32m✔\u001b[39m \u001b[34mworkflows   \u001b[39m 1.1.3\n",
      "\u001b[32m✔\u001b[39m \u001b[34mmodeldata   \u001b[39m 1.2.0     \u001b[32m✔\u001b[39m \u001b[34mworkflowsets\u001b[39m 1.0.1\n",
      "\u001b[32m✔\u001b[39m \u001b[34mparsnip     \u001b[39m 1.1.1     \u001b[32m✔\u001b[39m \u001b[34myardstick   \u001b[39m 1.2.0\n",
      "\u001b[32m✔\u001b[39m \u001b[34mrecipes     \u001b[39m 1.0.8     \n",
      "\n",
      "── \u001b[1mConflicts\u001b[22m ───────────────────────────────────────── tidymodels_conflicts() ──\n",
      "\u001b[31m✖\u001b[39m \u001b[34mscales\u001b[39m::\u001b[32mdiscard()\u001b[39m masks \u001b[34mpurrr\u001b[39m::discard()\n",
      "\u001b[31m✖\u001b[39m \u001b[34mdplyr\u001b[39m::\u001b[32mfilter()\u001b[39m   masks \u001b[34mstats\u001b[39m::filter()\n",
      "\u001b[31m✖\u001b[39m \u001b[34mrecipes\u001b[39m::\u001b[32mfixed()\u001b[39m  masks \u001b[34mstringr\u001b[39m::fixed()\n",
      "\u001b[31m✖\u001b[39m \u001b[34mdplyr\u001b[39m::\u001b[32mlag()\u001b[39m      masks \u001b[34mstats\u001b[39m::lag()\n",
      "\u001b[31m✖\u001b[39m \u001b[34myardstick\u001b[39m::\u001b[32mspec()\u001b[39m masks \u001b[34mreadr\u001b[39m::spec()\n",
      "\u001b[31m✖\u001b[39m \u001b[34mrecipes\u001b[39m::\u001b[32mstep()\u001b[39m   masks \u001b[34mstats\u001b[39m::step()\n",
      "\u001b[34m•\u001b[39m Learn how to get started at \u001b[32mhttps://www.tidymodels.org/start/\u001b[39m\n",
      "\n"
     ]
    }
   ],
   "source": [
    "library(tidyverse)\n",
    "library(repr)\n",
    "library(tidymodels)"
   ]
  },
  {
   "cell_type": "markdown",
   "id": "c06718c1-7d44-4e10-a41f-8b66da96f7a8",
   "metadata": {},
   "source": [
    "We begin by reading the heart disease csv file into R from the web. "
   ]
  },
  {
   "cell_type": "code",
   "execution_count": 2,
   "id": "de6f90ab-55d1-458e-8e97-4a2ee10c0610",
   "metadata": {},
   "outputs": [
    {
     "ename": "ERROR",
     "evalue": "Error: 'data/heart_disease_uci.csv' does not exist in current working directory ('/home/jovyan/work/Group-31').\n",
     "output_type": "error",
     "traceback": [
      "Error: 'data/heart_disease_uci.csv' does not exist in current working directory ('/home/jovyan/work/Group-31').\nTraceback:\n",
      "1. read_csv(\"data/heart_disease_uci.csv\")",
      "2. vroom::vroom(file, delim = \",\", col_names = col_names, col_types = col_types, \n .     col_select = {\n .         {\n .             col_select\n .         }\n .     }, id = id, .name_repair = name_repair, skip = skip, n_max = n_max, \n .     na = na, quote = quote, comment = comment, skip_empty_rows = skip_empty_rows, \n .     trim_ws = trim_ws, escape_double = TRUE, escape_backslash = FALSE, \n .     locale = locale, guess_max = guess_max, show_col_types = show_col_types, \n .     progress = progress, altrep = lazy, num_threads = num_threads)",
      "3. vroom_(file, delim = delim %||% col_types$delim, col_names = col_names, \n .     col_types = col_types, id = id, skip = skip, col_select = col_select, \n .     name_repair = .name_repair, na = na, quote = quote, trim_ws = trim_ws, \n .     escape_double = escape_double, escape_backslash = escape_backslash, \n .     comment = comment, skip_empty_rows = skip_empty_rows, locale = locale, \n .     guess_max = guess_max, n_max = n_max, altrep = vroom_altrep(altrep), \n .     num_threads = num_threads, progress = progress)",
      "4. (function (path, write = FALSE) \n . {\n .     if (is.raw(path)) {\n .         return(rawConnection(path, \"rb\"))\n .     }\n .     if (!is.character(path)) {\n .         return(path)\n .     }\n .     if (is_url(path)) {\n .         if (requireNamespace(\"curl\", quietly = TRUE)) {\n .             con <- curl::curl(path)\n .         }\n .         else {\n .             inform(\"`curl` package not installed, falling back to using `url()`\")\n .             con <- url(path)\n .         }\n .         ext <- tolower(tools::file_ext(path))\n .         return(switch(ext, zip = , bz2 = , xz = {\n .             close(con)\n .             stop(\"Reading from remote `\", ext, \"` compressed files is not supported,\\n\", \n .                 \"  download the files locally first.\", call. = FALSE)\n .         }, gz = gzcon(con), con))\n .     }\n .     path <- enc2utf8(path)\n .     p <- split_path_ext(basename_utf8(path))\n .     if (write) {\n .         path <- normalizePath_utf8(path, mustWork = FALSE)\n .     }\n .     else {\n .         path <- check_path(path)\n .     }\n .     if (is_installed(\"archive\")) {\n .         formats <- archive_formats(p$extension)\n .         extension <- p$extension\n .         while (is.null(formats) && nzchar(extension)) {\n .             extension <- split_path_ext(extension)$extension\n .             formats <- archive_formats(extension)\n .         }\n .         if (!is.null(formats)) {\n .             p$extension <- extension\n .             if (write) {\n .                 if (is.null(formats[[1]])) {\n .                   return(archive::file_write(path, filter = formats[[2]]))\n .                 }\n .                 return(archive::archive_write(path, p$path, format = formats[[1]], \n .                   filter = formats[[2]]))\n .             }\n .             if (is.null(formats[[1]])) {\n .                 return(archive::file_read(path, filter = formats[[2]]))\n .             }\n .             return(archive::archive_read(path, format = formats[[1]], \n .                 filter = formats[[2]]))\n .         }\n .     }\n .     if (!write) {\n .         compression <- detect_compression(path)\n .     }\n .     else {\n .         compression <- NA\n .     }\n .     if (is.na(compression)) {\n .         compression <- tools::file_ext(path)\n .     }\n .     if (write && compression == \"zip\") {\n .         stop(\"Can only read from, not write to, .zip\", call. = FALSE)\n .     }\n .     switch(compression, gz = gzfile(path, \"\"), bz2 = bzfile(path, \n .         \"\"), xz = xzfile(path, \"\"), zip = zipfile(path, \"\"), \n .         if (!has_trailing_newline(path)) {\n .             file(path)\n .         } else {\n .             path\n .         })\n . })(\"data/heart_disease_uci.csv\")",
      "5. check_path(path)",
      "6. stop(\"'\", path, \"' does not exist\", if (!is_absolute_path(path)) {\n .     paste0(\" in current working directory ('\", getwd(), \"')\")\n . }, \".\", call. = FALSE)"
     ]
    }
   ],
   "source": [
    "heart_disease <- read_csv(\"data/heart_disease_uci.csv\")\n",
    "heart_disease"
   ]
  },
  {
   "cell_type": "markdown",
   "id": "8044c3de-bd54-4be7-8779-40d9f7bb8cf7",
   "metadata": {},
   "source": [
    "Next, we select the columns that we're interested in. In this case, these columns include resting heart rate, cholesterol and chest pain type. "
   ]
  },
  {
   "cell_type": "code",
   "execution_count": null,
   "id": "db1fa26c-85b1-48af-a4bd-bc1389e7eb01",
   "metadata": {},
   "outputs": [],
   "source": [
    "heart_disease_select <- heart_disease|>\n",
    "select(trestbps,chol,cp)\n",
    "heart_disease_select"
   ]
  },
  {
   "cell_type": "markdown",
   "id": "9694367f-8684-4fa4-b157-2b23d65a8083",
   "metadata": {},
   "source": [
    "We must set the seed so that our work is reproducible. Then, we split the data into our training and testing sets. "
   ]
  },
  {
   "cell_type": "code",
   "execution_count": null,
   "id": "314a5177-0c54-43a9-a8b3-6ef1fbf9d871",
   "metadata": {},
   "outputs": [],
   "source": [
    "set.seed(3456)\n",
    "\n",
    "heart_disease_split <- initial_split(heart_disease_select, prop=0.75, strata=cp)\n",
    "heart_disease_train<- training(heart_disease_split)\n",
    "heart_disease_test <- testing(heart_disease_split)\n",
    "heart_disease_train\n",
    "heart_disease_test"
   ]
  },
  {
   "cell_type": "markdown",
   "id": "6a1d272d-ea17-44db-b1e4-ef240c29ab21",
   "metadata": {},
   "source": [
    "We make a summary statistic, grouping by chest pain type and finding the average of both the resting heart rate and of the cholesterol level. "
   ]
  },
  {
   "cell_type": "code",
   "execution_count": null,
   "id": "53c01398-def4-4aa8-ab19-448d6d57fed9",
   "metadata": {},
   "outputs": [],
   "source": [
    "heart_disease_tidy <- heart_disease_train |>\n",
    "group_by(cp)|>\n",
    "summarize(mean_trestbps = mean(trestbps, na.rm=TRUE), mean_chol = mean(chol, na.rm=TRUE))\n",
    "heart_disease_tidy"
   ]
  },
  {
   "cell_type": "markdown",
   "id": "7843271e-37cf-42a5-babc-8477afc7fc1d",
   "metadata": {},
   "source": [
    "Finally we create an initial visualization of resting blood pressure vs cholesterol levels, using colour and shape to categorize chest pain type. "
   ]
  },
  {
   "cell_type": "code",
   "execution_count": null,
   "id": "d64a1a07-2edd-4c22-9d70-432a5d994673",
   "metadata": {},
   "outputs": [],
   "source": [
    "options(repr.plot.height=10, repr.plot.width=10)\n",
    "Visualization <- heart_disease_train|>\n",
    "ggplot(aes(x= trestbps, y= chol))+\n",
    "       geom_point(aes(colour = cp, shape = cp)) +\n",
    "labs(x = \"Resting Blood Pressure\", y = \"Cholesterol Levels\", colour = \"Chest Pain Type\", shape = \"Chest Pain Type\") +\n",
    "ggtitle(\"Resting Blood Pressure vs Cholesterol Levels For Type of Chest Pain\")+\n",
    "  theme(text = element_text(size = 20))\n",
    "Visualization"
   ]
  }
 ],
 "metadata": {
  "kernelspec": {
   "display_name": "R",
   "language": "R",
   "name": "ir"
  },
  "language_info": {
   "codemirror_mode": "r",
   "file_extension": ".r",
   "mimetype": "text/x-r-source",
   "name": "R",
   "pygments_lexer": "r",
   "version": "4.3.1"
  }
 },
 "nbformat": 4,
 "nbformat_minor": 5
}
